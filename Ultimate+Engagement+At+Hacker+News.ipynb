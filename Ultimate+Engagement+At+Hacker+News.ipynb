{
 "cells": [
  {
   "cell_type": "markdown",
   "metadata": {
    "collapsed": true
   },
   "source": [
    "# Ultimate Engagement At Hacker News \n",
    "\n",
    "We will explore what type of post (Ask HN or Show HN) gets the most traction by analyzing the number of comments each post gets. Then we will figure out at what hour of the day these posts get the most engagement/comments. In this dataset, we have approximately 20K post, which contains information about each post like, the title, time posted, number of comments.\n",
    "\n",
    "Lets start by opening the csv file and exploring a few rows in the dataset."
   ]
  },
  {
   "cell_type": "code",
   "execution_count": 1,
   "metadata": {
    "collapsed": false
   },
   "outputs": [
    {
     "name": "stdout",
     "output_type": "stream",
     "text": [
      "[['id', 'title', 'url', 'num_points', 'num_comments', 'author', 'created_at']] \n",
      "\n",
      "[['12224879', 'Interactive Dynamic Video', 'http://www.interactivedynamicvideo.com/', '386', '52', 'ne0phyte', '8/4/2016 11:52'], ['10975351', 'How to Use Open Source and Shut the Fuck Up at the Same Time', 'http://hueniverse.com/2016/01/26/how-to-use-open-source-and-shut-the-fuck-up-at-the-same-time/', '39', '10', 'josep2', '1/26/2016 19:30'], ['11964716', \"Florida DJs May Face Felony for April Fools' Water Joke\", 'http://www.thewire.com/entertainment/2013/04/florida-djs-april-fools-water-joke/63798/', '2', '1', 'vezycash', '6/23/2016 22:20']]\n"
     ]
    }
   ],
   "source": [
    "from csv import reader\n",
    "opened_file = open('hacker_news.csv')\n",
    "read_file = reader(opened_file)\n",
    "hn = list(read_file)\n",
    "headers = hn[:1]\n",
    "hn = hn[1:]\n",
    "print(headers,\"\\n\")\n",
    "print(hn[:3])"
   ]
  },
  {
   "cell_type": "markdown",
   "metadata": {},
   "source": [
    "Since we are only interested in the posts that start with Ask HN or Show HN, we will create a new list of lists that contains the data with those titles."
   ]
  },
  {
   "cell_type": "code",
   "execution_count": 2,
   "metadata": {
    "collapsed": false
   },
   "outputs": [
    {
     "name": "stdout",
     "output_type": "stream",
     "text": [
      "Number of Ask HN posts:  1744\n",
      "Number of Show HN posts:  1162\n",
      "Number of Other posts:  17194\n"
     ]
    }
   ],
   "source": [
    "\"\"\"Split the dataset into 3 separate sets depeding \n",
    "on what the title of the post is. \"\"\"\n",
    "\n",
    "ask_posts = []\n",
    "show_posts = []\n",
    "other_posts = []\n",
    "\n",
    "for row in hn:\n",
    "    title = row[1]\n",
    "    if title.lower().startswith('ask hn'):\n",
    "        ask_posts.append(row)\n",
    "    elif title.lower().startswith('show hn'):\n",
    "        show_posts.append(row)\n",
    "    else:\n",
    "        other_posts.append(row)\n",
    "        \n",
    "print(\"Number of Ask HN posts: \", len(ask_posts))\n",
    "print(\"Number of Show HN posts: \", len(show_posts))\n",
    "print(\"Number of Other posts: \", len(other_posts)) "
   ]
  },
  {
   "cell_type": "markdown",
   "metadata": {},
   "source": [
    "Now that we have the Show HN and Ask HN post lets find out which one receives more comments on average."
   ]
  },
  {
   "cell_type": "code",
   "execution_count": 3,
   "metadata": {
    "collapsed": false
   },
   "outputs": [
    {
     "name": "stdout",
     "output_type": "stream",
     "text": [
      "Average amount of comments in Ask HN posts:  14.0\n",
      "Average amount of comments in Show HN posts:  10.3\n"
     ]
    }
   ],
   "source": [
    "\"\"\"Count the number of from both Ask HN and Show HN dataset.\"\"\"\n",
    "\n",
    "total_ask_comments = 0\n",
    "for row in ask_posts:\n",
    "    num_comments = int(row[4])\n",
    "    total_ask_comments += num_comments\n",
    "avg_ask_comments = total_ask_comments / len(ask_posts)\n",
    "\n",
    "print(\"Average amount of comments in Ask HN posts: \", \n",
    "      round(avg_ask_comments, 1))\n",
    "\n",
    "total_show_comments = 0\n",
    "for row in show_posts:\n",
    "    num_comments = int(row[4])\n",
    "    total_show_comments += num_comments\n",
    "avg_show_comments = total_show_comments / len(show_posts)\n",
    "\n",
    "print(\"Average amount of comments in Show HN posts: \", \n",
    "      round(avg_show_comments, 1))"
   ]
  },
  {
   "cell_type": "markdown",
   "metadata": {},
   "source": [
    "We can see the on average the Ask HN posts get more comments than the Show HN posts. Therefore Ask HN post are more likely to get engagement, hence we will focus on these post from now on. Now we are going to investigate if a certain time to post an Ask HN is more likely to get more comments."
   ]
  },
  {
   "cell_type": "code",
   "execution_count": 4,
   "metadata": {
    "collapsed": false
   },
   "outputs": [
    {
     "name": "stdout",
     "output_type": "stream",
     "text": [
      "Top 5 Hours for Ask Posts Comments:\n",
      "\n",
      "15:00: 38.59 average comments per post.\n",
      "02:00: 23.81 average comments per post.\n",
      "20:00: 21.52 average comments per post.\n",
      "16:00: 16.80 average comments per post.\n",
      "21:00: 16.01 average comments per post.\n"
     ]
    }
   ],
   "source": [
    "\"\"\"Create two dictionaries one with the number of post created \n",
    "per hour and the number of comments per hour. Then use these two\n",
    "dictionaries to calculate an average of comments per post per hour.\"\"\"\n",
    "\n",
    "import datetime as dt\n",
    "\n",
    "result_list = []\n",
    "counts_by_hour = {}\n",
    "comments_by_hour = {}\n",
    "\n",
    "for row in ask_posts:\n",
    "    created_at_num_comments = [row[6], int(row[4])]\n",
    "    result_list.append(created_at_num_comments)\n",
    "    \n",
    "for row in result_list:\n",
    "    date = row[0]\n",
    "    date = dt.datetime.strptime(date, \"%m/%d/%Y %H:%M\")\n",
    "    hour = date.strftime(\"%H\")\n",
    "    \n",
    "    if hour in counts_by_hour:\n",
    "        counts_by_hour[hour] += 1\n",
    "        comments_by_hour[hour] += row[1]\n",
    "    else:\n",
    "        counts_by_hour[hour] = 1\n",
    "        comments_by_hour[hour] = row[1] \n",
    "        \n",
    "avg_by_hour = []\n",
    "for h in counts_by_hour:\n",
    "    avg_comments_per_post_per_hour = comments_by_hour[h] / counts_by_hour[h]\n",
    "    avg_by_hour.append([h, avg_comments_per_post_per_hour])\n",
    "\n",
    "swap_avg_by_hour = []\n",
    "for item in avg_by_hour:\n",
    "    swap_avg_by_hour.append([item[1], item[0]])\n",
    "\n",
    "sorted_swap = sorted(swap_avg_by_hour, reverse = True)\n",
    "print(\"Top 5 Hours for Ask Posts Comments:\\n\")\n",
    "for item in sorted_swap[:5]:\n",
    "    formated_avg = \"{hour}:00: {avg:.2f} average comments per post.\".format(hour=item[1], avg=item[0])\n",
    "    \n",
    "    print(formated_avg)"
   ]
  },
  {
   "cell_type": "markdown",
   "metadata": {
    "collapsed": true
   },
   "source": [
    "Here we have concluded that we want the highest chance of receiving comments on an Ask HN post we should create the post at 3 pm - 4 pm or at 8 pm - 9 pm."
   ]
  }
 ],
 "metadata": {
  "kernelspec": {
   "display_name": "Python 3",
   "language": "python",
   "name": "python3"
  },
  "language_info": {
   "codemirror_mode": {
    "name": "ipython",
    "version": 3
   },
   "file_extension": ".py",
   "mimetype": "text/x-python",
   "name": "python",
   "nbconvert_exporter": "python",
   "pygments_lexer": "ipython3",
   "version": "3.4.3"
  }
 },
 "nbformat": 4,
 "nbformat_minor": 2
}
